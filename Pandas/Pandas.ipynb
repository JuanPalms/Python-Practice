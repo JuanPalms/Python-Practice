{
 "cells": [
  {
   "cell_type": "markdown",
   "id": "9b3962e6",
   "metadata": {},
   "source": [
    "# Pandas"
   ]
  },
  {
   "cell_type": "code",
   "execution_count": 1,
   "id": "26b5a725",
   "metadata": {},
   "outputs": [],
   "source": [
    "import pandas as pd\n",
    "import numpy as np\n",
    "import matplotlib.pyplot as plt\n",
    "from pandas_profiling import ProfileReport"
   ]
  },
  {
   "cell_type": "markdown",
   "id": "d47885ce",
   "metadata": {},
   "source": [
    "References\n",
    "\n",
    "https://www.youtube.com/watch?v=lnks1IcoHUo&t=108s\n",
    "\n",
    "https://www.youtube.com/c/TaylorSparks"
   ]
  },
  {
   "cell_type": "code",
   "execution_count": 15,
   "id": "90cfdab1",
   "metadata": {},
   "outputs": [
    {
     "name": "stderr",
     "output_type": "stream",
     "text": [
      "/tmp/ipykernel_39987/736848038.py:1: DtypeWarning: Columns (5,9) have mixed types. Specify dtype option on import or set low_memory=False.\n",
      "  df=pd.read_csv('scrubbed.csv')\n"
     ]
    }
   ],
   "source": [
    "df=pd.read_csv('scrubbed.csv')"
   ]
  },
  {
   "cell_type": "code",
   "execution_count": 16,
   "id": "f05a3f16",
   "metadata": {},
   "outputs": [],
   "source": [
    "#add or delete columns\n",
    "df=df.drop(df.columns[6],axis=1)"
   ]
  },
  {
   "cell_type": "code",
   "execution_count": 17,
   "id": "9314cc39",
   "metadata": {},
   "outputs": [
    {
     "data": {
      "text/plain": [
       "Index(['datetime', 'city', 'state', 'country', 'shape', 'duration (seconds)',\n",
       "       'comments', 'date posted', 'latitude', 'longitude '],\n",
       "      dtype='object')"
      ]
     },
     "execution_count": 17,
     "metadata": {},
     "output_type": "execute_result"
    }
   ],
   "source": [
    "df.columns"
   ]
  },
  {
   "cell_type": "code",
   "execution_count": 18,
   "id": "c9cd7e24",
   "metadata": {},
   "outputs": [
    {
     "data": {
      "text/plain": [
       "count    80332.000000\n",
       "mean       -86.772885\n",
       "std         39.697205\n",
       "min       -176.658056\n",
       "25%       -112.073333\n",
       "50%        -87.903611\n",
       "75%        -78.755000\n",
       "max        178.441900\n",
       "Name: longitude , dtype: float64"
      ]
     },
     "execution_count": 18,
     "metadata": {},
     "output_type": "execute_result"
    }
   ],
   "source": [
    "#describing the data frame\n",
    "df['longitude '].describe()"
   ]
  },
  {
   "cell_type": "code",
   "execution_count": 20,
   "id": "20dff7a8",
   "metadata": {},
   "outputs": [],
   "source": [
    "profile= ProfileReport(df.copy(),title=\"Pandas Profile Reporting\")"
   ]
  },
  {
   "cell_type": "code",
   "execution_count": 21,
   "id": "d138c1df",
   "metadata": {},
   "outputs": [],
   "source": [
    "#profile.to_file('profile_report.html')"
   ]
  },
  {
   "cell_type": "code",
   "execution_count": 22,
   "id": "ea161218",
   "metadata": {},
   "outputs": [],
   "source": [
    "cols=['latitude', 'longitude ','datetime', 'city', 'state', 'country', 'shape', 'duration (seconds)',\n",
    "       'comments', 'date posted']"
   ]
  },
  {
   "cell_type": "code",
   "execution_count": 23,
   "id": "a154eb95",
   "metadata": {},
   "outputs": [],
   "source": [
    "df=df[cols]"
   ]
  },
  {
   "cell_type": "code",
   "execution_count": 24,
   "id": "4fdc8315",
   "metadata": {},
   "outputs": [],
   "source": [
    "df['latitude']=pd.to_numeric(df['latitude'],errors='coerce')"
   ]
  },
  {
   "cell_type": "code",
   "execution_count": 25,
   "id": "7911e912",
   "metadata": {},
   "outputs": [
    {
     "data": {
      "text/plain": [
       "count    80331.000000\n",
       "mean        38.124477\n",
       "std         10.469636\n",
       "min        -82.862752\n",
       "25%         34.134722\n",
       "50%         39.411111\n",
       "75%         42.788333\n",
       "max         72.700000\n",
       "Name: latitude, dtype: float64"
      ]
     },
     "execution_count": 25,
     "metadata": {},
     "output_type": "execute_result"
    }
   ],
   "source": [
    "df['latitude'].describe()"
   ]
  },
  {
   "cell_type": "code",
   "execution_count": 28,
   "id": "2f7c8913",
   "metadata": {},
   "outputs": [],
   "source": [
    "df['duration (seconds)']=pd.to_numeric(df['duration (seconds)'],errors='coerce')"
   ]
  },
  {
   "cell_type": "code",
   "execution_count": 29,
   "id": "cebaecc4",
   "metadata": {},
   "outputs": [
    {
     "data": {
      "text/plain": [
       "count    8.032900e+04\n",
       "mean     9.017226e+03\n",
       "std      6.202284e+05\n",
       "min      1.000000e-03\n",
       "25%      3.000000e+01\n",
       "50%      1.800000e+02\n",
       "75%      6.000000e+02\n",
       "max      9.783600e+07\n",
       "Name: duration (seconds), dtype: float64"
      ]
     },
     "execution_count": 29,
     "metadata": {},
     "output_type": "execute_result"
    }
   ],
   "source": [
    "df['duration (seconds)'].describe()"
   ]
  },
  {
   "cell_type": "code",
   "execution_count": 30,
   "id": "68e84b3d",
   "metadata": {},
   "outputs": [],
   "source": [
    "df=df.sort_values('duration (seconds)') "
   ]
  },
  {
   "cell_type": "code",
   "execution_count": 32,
   "id": "616806b0",
   "metadata": {},
   "outputs": [],
   "source": [
    "df=df.sort_values(['duration (seconds)','latitude']) #can sort by multiple arguments"
   ]
  },
  {
   "cell_type": "code",
   "execution_count": 34,
   "id": "e93a777e",
   "metadata": {},
   "outputs": [
    {
     "data": {
      "text/html": [
       "<div>\n",
       "<style scoped>\n",
       "    .dataframe tbody tr th:only-of-type {\n",
       "        vertical-align: middle;\n",
       "    }\n",
       "\n",
       "    .dataframe tbody tr th {\n",
       "        vertical-align: top;\n",
       "    }\n",
       "\n",
       "    .dataframe thead th {\n",
       "        text-align: right;\n",
       "    }\n",
       "</style>\n",
       "<table border=\"1\" class=\"dataframe\">\n",
       "  <thead>\n",
       "    <tr style=\"text-align: right;\">\n",
       "      <th></th>\n",
       "      <th>latitude</th>\n",
       "      <th>longitude</th>\n",
       "      <th>datetime</th>\n",
       "      <th>city</th>\n",
       "      <th>state</th>\n",
       "      <th>country</th>\n",
       "      <th>shape</th>\n",
       "      <th>duration (seconds)</th>\n",
       "      <th>comments</th>\n",
       "      <th>date posted</th>\n",
       "    </tr>\n",
       "  </thead>\n",
       "  <tbody>\n",
       "    <tr>\n",
       "      <th>4081</th>\n",
       "      <td>-46.163992</td>\n",
       "      <td>169.875050</td>\n",
       "      <td>10/23/2008 04:45</td>\n",
       "      <td>remote</td>\n",
       "      <td>wy</td>\n",
       "      <td>NaN</td>\n",
       "      <td>flash</td>\n",
       "      <td>0.001</td>\n",
       "      <td>brilliant strobe light at 4am&amp;#44 moving light...</td>\n",
       "      <td>1/10/2009</td>\n",
       "    </tr>\n",
       "    <tr>\n",
       "      <th>56596</th>\n",
       "      <td>41.750000</td>\n",
       "      <td>-87.804167</td>\n",
       "      <td>7/15/1974 22:00</td>\n",
       "      <td>bridgeview</td>\n",
       "      <td>il</td>\n",
       "      <td>us</td>\n",
       "      <td>triangle</td>\n",
       "      <td>0.010</td>\n",
       "      <td>Triangular streak SW to NE horizon to horizon ...</td>\n",
       "      <td>1/17/2004</td>\n",
       "    </tr>\n",
       "    <tr>\n",
       "      <th>42378</th>\n",
       "      <td>42.276111</td>\n",
       "      <td>-88.191944</td>\n",
       "      <td>5/15/1987 23:00</td>\n",
       "      <td>island lake</td>\n",
       "      <td>il</td>\n",
       "      <td>us</td>\n",
       "      <td>light</td>\n",
       "      <td>0.010</td>\n",
       "      <td>4 red laser like lines</td>\n",
       "      <td>1/12/2012</td>\n",
       "    </tr>\n",
       "    <tr>\n",
       "      <th>70393</th>\n",
       "      <td>44.621667</td>\n",
       "      <td>-123.937222</td>\n",
       "      <td>8/29/2002 23:45</td>\n",
       "      <td>toledo</td>\n",
       "      <td>or</td>\n",
       "      <td>us</td>\n",
       "      <td>triangle</td>\n",
       "      <td>0.010</td>\n",
       "      <td>The object I saw was  very clear and moved at ...</td>\n",
       "      <td>9/6/2002</td>\n",
       "    </tr>\n",
       "    <tr>\n",
       "      <th>23754</th>\n",
       "      <td>45.696111</td>\n",
       "      <td>-121.285000</td>\n",
       "      <td>12/9/1999 18:15</td>\n",
       "      <td>lyle</td>\n",
       "      <td>wa</td>\n",
       "      <td>us</td>\n",
       "      <td>fireball</td>\n",
       "      <td>0.010</td>\n",
       "      <td>Incredible...full moon sized bright orange fir...</td>\n",
       "      <td>12/16/1999</td>\n",
       "    </tr>\n",
       "    <tr>\n",
       "      <th>70587</th>\n",
       "      <td>52.154461</td>\n",
       "      <td>-9.566863</td>\n",
       "      <td>8/30/2002 13:45</td>\n",
       "      <td>kerry (republic of ireland)</td>\n",
       "      <td>NaN</td>\n",
       "      <td>NaN</td>\n",
       "      <td>sphere</td>\n",
       "      <td>0.010</td>\n",
       "      <td>The object  seemed to move at lightining speed</td>\n",
       "      <td>9/13/2002</td>\n",
       "    </tr>\n",
       "    <tr>\n",
       "      <th>52996</th>\n",
       "      <td>60.173324</td>\n",
       "      <td>24.941025</td>\n",
       "      <td>6/30/2002 03:15</td>\n",
       "      <td>helsinki (finland)</td>\n",
       "      <td>NaN</td>\n",
       "      <td>NaN</td>\n",
       "      <td>unknown</td>\n",
       "      <td>0.010</td>\n",
       "      <td>Overpassing UFO</td>\n",
       "      <td>7/1/2002</td>\n",
       "    </tr>\n",
       "    <tr>\n",
       "      <th>67354</th>\n",
       "      <td>45.433333</td>\n",
       "      <td>-72.883333</td>\n",
       "      <td>8/17/2013 24:00</td>\n",
       "      <td>abbotsford (canada)</td>\n",
       "      <td>bc</td>\n",
       "      <td>ca</td>\n",
       "      <td>diamond</td>\n",
       "      <td>0.020</td>\n",
       "      <td>Maybe 60&amp;#39 from deck Camera&amp;#44left to right...</td>\n",
       "      <td>9/9/2013</td>\n",
       "    </tr>\n",
       "    <tr>\n",
       "      <th>13375</th>\n",
       "      <td>45.446389</td>\n",
       "      <td>-122.638056</td>\n",
       "      <td>11/28/2001 03:41</td>\n",
       "      <td>milwaukie</td>\n",
       "      <td>or</td>\n",
       "      <td>us</td>\n",
       "      <td>fireball</td>\n",
       "      <td>0.020</td>\n",
       "      <td>High speed moving fireball fallow by a bright ...</td>\n",
       "      <td>12/5/2001</td>\n",
       "    </tr>\n",
       "    <tr>\n",
       "      <th>78381</th>\n",
       "      <td>-38.382766</td>\n",
       "      <td>142.484499</td>\n",
       "      <td>9/29/1999 14:30</td>\n",
       "      <td>warnambool&amp;#44 vic (australia)</td>\n",
       "      <td>NaN</td>\n",
       "      <td>NaN</td>\n",
       "      <td>unknown</td>\n",
       "      <td>0.050</td>\n",
       "      <td>It was very quick. We have a picture of it.</td>\n",
       "      <td>11/2/1999</td>\n",
       "    </tr>\n",
       "    <tr>\n",
       "      <th>18735</th>\n",
       "      <td>28.483168</td>\n",
       "      <td>-82.536987</td>\n",
       "      <td>12/17/2011 18:40</td>\n",
       "      <td>springhill</td>\n",
       "      <td>fl</td>\n",
       "      <td>NaN</td>\n",
       "      <td>flash</td>\n",
       "      <td>0.050</td>\n",
       "      <td>We saw a flash of light while observing a plan...</td>\n",
       "      <td>1/12/2012</td>\n",
       "    </tr>\n",
       "    <tr>\n",
       "      <th>21258</th>\n",
       "      <td>35.707778</td>\n",
       "      <td>-79.813889</td>\n",
       "      <td>12/29/2012 19:30</td>\n",
       "      <td>asheboro</td>\n",
       "      <td>nc</td>\n",
       "      <td>us</td>\n",
       "      <td>light</td>\n",
       "      <td>0.050</td>\n",
       "      <td>Single bluish white downward arc of fast movin...</td>\n",
       "      <td>2/4/2013</td>\n",
       "    </tr>\n",
       "    <tr>\n",
       "      <th>42057</th>\n",
       "      <td>41.158607</td>\n",
       "      <td>-81.226990</td>\n",
       "      <td>5/13/2003 22:00</td>\n",
       "      <td>grove</td>\n",
       "      <td>oh</td>\n",
       "      <td>NaN</td>\n",
       "      <td>unknown</td>\n",
       "      <td>0.050</td>\n",
       "      <td>bright flaring star</td>\n",
       "      <td>5/27/2003</td>\n",
       "    </tr>\n",
       "    <tr>\n",
       "      <th>7378</th>\n",
       "      <td>41.759722</td>\n",
       "      <td>-74.594444</td>\n",
       "      <td>10/9/2012 23:30</td>\n",
       "      <td>woodbourne</td>\n",
       "      <td>ny</td>\n",
       "      <td>us</td>\n",
       "      <td>other</td>\n",
       "      <td>0.050</td>\n",
       "      <td>A basket -shaped object&amp;#44 intense orange at ...</td>\n",
       "      <td>10/30/2012</td>\n",
       "    </tr>\n",
       "    <tr>\n",
       "      <th>2038</th>\n",
       "      <td>47.540556</td>\n",
       "      <td>-122.635000</td>\n",
       "      <td>10/15/2001 20:22</td>\n",
       "      <td>port orchard</td>\n",
       "      <td>wa</td>\n",
       "      <td>us</td>\n",
       "      <td>circle</td>\n",
       "      <td>0.050</td>\n",
       "      <td>Large blue circular object observed falling at...</td>\n",
       "      <td>11/20/2001</td>\n",
       "    </tr>\n",
       "    <tr>\n",
       "      <th>13366</th>\n",
       "      <td>44.052222</td>\n",
       "      <td>-123.085556</td>\n",
       "      <td>11/28/2000 02:14</td>\n",
       "      <td>eugene</td>\n",
       "      <td>or</td>\n",
       "      <td>us</td>\n",
       "      <td>circle</td>\n",
       "      <td>0.080</td>\n",
       "      <td>Brilliant White light seen traveling N to S al...</td>\n",
       "      <td>12/2/2000</td>\n",
       "    </tr>\n",
       "    <tr>\n",
       "      <th>7262</th>\n",
       "      <td>45.638889</td>\n",
       "      <td>-122.660278</td>\n",
       "      <td>10/9/2005 20:08</td>\n",
       "      <td>vancouver</td>\n",
       "      <td>wa</td>\n",
       "      <td>us</td>\n",
       "      <td>light</td>\n",
       "      <td>0.080</td>\n",
       "      <td>Yellowish&amp;#44 orange object travelling much fa...</td>\n",
       "      <td>10/11/2005</td>\n",
       "    </tr>\n",
       "    <tr>\n",
       "      <th>32487</th>\n",
       "      <td>32.840556</td>\n",
       "      <td>-83.632500</td>\n",
       "      <td>3/20/1999 16:00</td>\n",
       "      <td>macon</td>\n",
       "      <td>ga</td>\n",
       "      <td>us</td>\n",
       "      <td>egg</td>\n",
       "      <td>0.100</td>\n",
       "      <td>While videoing trees and sides of house object...</td>\n",
       "      <td>9/28/2002</td>\n",
       "    </tr>\n",
       "    <tr>\n",
       "      <th>1659</th>\n",
       "      <td>34.902222</td>\n",
       "      <td>-110.157500</td>\n",
       "      <td>10/14/2011 21:20</td>\n",
       "      <td>holbrook</td>\n",
       "      <td>az</td>\n",
       "      <td>us</td>\n",
       "      <td>other</td>\n",
       "      <td>0.100</td>\n",
       "      <td>This fast moving craft was low flying and not ...</td>\n",
       "      <td>12/12/2011</td>\n",
       "    </tr>\n",
       "    <tr>\n",
       "      <th>18891</th>\n",
       "      <td>35.489444</td>\n",
       "      <td>-120.669722</td>\n",
       "      <td>12/18/2012 13:00</td>\n",
       "      <td>atascadero (101 freeway)</td>\n",
       "      <td>ca</td>\n",
       "      <td>us</td>\n",
       "      <td>circle</td>\n",
       "      <td>0.100</td>\n",
       "      <td>Blue almost electrical circle of blue light  c...</td>\n",
       "      <td>12/20/2012</td>\n",
       "    </tr>\n",
       "  </tbody>\n",
       "</table>\n",
       "</div>"
      ],
      "text/plain": [
       "        latitude  longitude           datetime  \\\n",
       "4081  -46.163992  169.875050  10/23/2008 04:45   \n",
       "56596  41.750000  -87.804167   7/15/1974 22:00   \n",
       "42378  42.276111  -88.191944   5/15/1987 23:00   \n",
       "70393  44.621667 -123.937222   8/29/2002 23:45   \n",
       "23754  45.696111 -121.285000   12/9/1999 18:15   \n",
       "70587  52.154461   -9.566863   8/30/2002 13:45   \n",
       "52996  60.173324   24.941025   6/30/2002 03:15   \n",
       "67354  45.433333  -72.883333   8/17/2013 24:00   \n",
       "13375  45.446389 -122.638056  11/28/2001 03:41   \n",
       "78381 -38.382766  142.484499   9/29/1999 14:30   \n",
       "18735  28.483168  -82.536987  12/17/2011 18:40   \n",
       "21258  35.707778  -79.813889  12/29/2012 19:30   \n",
       "42057  41.158607  -81.226990   5/13/2003 22:00   \n",
       "7378   41.759722  -74.594444   10/9/2012 23:30   \n",
       "2038   47.540556 -122.635000  10/15/2001 20:22   \n",
       "13366  44.052222 -123.085556  11/28/2000 02:14   \n",
       "7262   45.638889 -122.660278   10/9/2005 20:08   \n",
       "32487  32.840556  -83.632500   3/20/1999 16:00   \n",
       "1659   34.902222 -110.157500  10/14/2011 21:20   \n",
       "18891  35.489444 -120.669722  12/18/2012 13:00   \n",
       "\n",
       "                                 city state country     shape  \\\n",
       "4081                           remote    wy     NaN     flash   \n",
       "56596                      bridgeview    il      us  triangle   \n",
       "42378                     island lake    il      us     light   \n",
       "70393                          toledo    or      us  triangle   \n",
       "23754                            lyle    wa      us  fireball   \n",
       "70587     kerry (republic of ireland)   NaN     NaN    sphere   \n",
       "52996              helsinki (finland)   NaN     NaN   unknown   \n",
       "67354             abbotsford (canada)    bc      ca   diamond   \n",
       "13375                       milwaukie    or      us  fireball   \n",
       "78381  warnambool&#44 vic (australia)   NaN     NaN   unknown   \n",
       "18735                      springhill    fl     NaN     flash   \n",
       "21258                        asheboro    nc      us     light   \n",
       "42057                           grove    oh     NaN   unknown   \n",
       "7378                       woodbourne    ny      us     other   \n",
       "2038                     port orchard    wa      us    circle   \n",
       "13366                          eugene    or      us    circle   \n",
       "7262                        vancouver    wa      us     light   \n",
       "32487                           macon    ga      us       egg   \n",
       "1659                         holbrook    az      us     other   \n",
       "18891        atascadero (101 freeway)    ca      us    circle   \n",
       "\n",
       "       duration (seconds)                                           comments  \\\n",
       "4081                0.001  brilliant strobe light at 4am&#44 moving light...   \n",
       "56596               0.010  Triangular streak SW to NE horizon to horizon ...   \n",
       "42378               0.010                             4 red laser like lines   \n",
       "70393               0.010  The object I saw was  very clear and moved at ...   \n",
       "23754               0.010  Incredible...full moon sized bright orange fir...   \n",
       "70587               0.010     The object  seemed to move at lightining speed   \n",
       "52996               0.010                                    Overpassing UFO   \n",
       "67354               0.020  Maybe 60&#39 from deck Camera&#44left to right...   \n",
       "13375               0.020  High speed moving fireball fallow by a bright ...   \n",
       "78381               0.050        It was very quick. We have a picture of it.   \n",
       "18735               0.050  We saw a flash of light while observing a plan...   \n",
       "21258               0.050  Single bluish white downward arc of fast movin...   \n",
       "42057               0.050                                bright flaring star   \n",
       "7378                0.050  A basket -shaped object&#44 intense orange at ...   \n",
       "2038                0.050  Large blue circular object observed falling at...   \n",
       "13366               0.080  Brilliant White light seen traveling N to S al...   \n",
       "7262                0.080  Yellowish&#44 orange object travelling much fa...   \n",
       "32487               0.100  While videoing trees and sides of house object...   \n",
       "1659                0.100  This fast moving craft was low flying and not ...   \n",
       "18891               0.100  Blue almost electrical circle of blue light  c...   \n",
       "\n",
       "      date posted  \n",
       "4081    1/10/2009  \n",
       "56596   1/17/2004  \n",
       "42378   1/12/2012  \n",
       "70393    9/6/2002  \n",
       "23754  12/16/1999  \n",
       "70587   9/13/2002  \n",
       "52996    7/1/2002  \n",
       "67354    9/9/2013  \n",
       "13375   12/5/2001  \n",
       "78381   11/2/1999  \n",
       "18735   1/12/2012  \n",
       "21258    2/4/2013  \n",
       "42057   5/27/2003  \n",
       "7378   10/30/2012  \n",
       "2038   11/20/2001  \n",
       "13366   12/2/2000  \n",
       "7262   10/11/2005  \n",
       "32487   9/28/2002  \n",
       "1659   12/12/2011  \n",
       "18891  12/20/2012  "
      ]
     },
     "execution_count": 34,
     "metadata": {},
     "output_type": "execute_result"
    }
   ],
   "source": [
    "df.head(20)"
   ]
  },
  {
   "cell_type": "markdown",
   "id": "caf92bee",
   "metadata": {},
   "source": [
    "We need to make a copy for subsetting a df"
   ]
  },
  {
   "cell_type": "code",
   "execution_count": 35,
   "id": "b9b18050",
   "metadata": {},
   "outputs": [],
   "source": [
    "df2=df.copy()"
   ]
  },
  {
   "cell_type": "code",
   "execution_count": 36,
   "id": "59b16a36",
   "metadata": {},
   "outputs": [],
   "source": [
    "df2=df2.loc[df2['latitude']>42]"
   ]
  },
  {
   "cell_type": "code",
   "execution_count": 40,
   "id": "7c49cb7a",
   "metadata": {},
   "outputs": [
    {
     "name": "stdout",
     "output_type": "stream",
     "text": [
      "Cleaned Data Frame shape: (55075, 10)\n"
     ]
    }
   ],
   "source": [
    "#another way of filtering\n",
    "df3=df.copy()\n",
    "bool_latitude=df3['latitude']>42\n",
    "bool_duration=df3['duration (seconds)']>10000\n",
    "df3=df3.drop(df3.loc[bool_latitude].index,axis=0)\n",
    "df3=df3.drop(df3.loc[bool_duration].index,axis=0)\n",
    "print(f'Cleaned Data Frame shape: {df3.shape}')\n"
   ]
  },
  {
   "cell_type": "markdown",
   "id": "c6822b58",
   "metadata": {},
   "source": [
    "## Counting values"
   ]
  },
  {
   "cell_type": "code",
   "execution_count": 42,
   "id": "9476ad7f",
   "metadata": {},
   "outputs": [
    {
     "data": {
      "text/plain": [
       "<AxesSubplot:>"
      ]
     },
     "execution_count": 42,
     "metadata": {},
     "output_type": "execute_result"
    },
    {
     "data": {
      "image/png": "[encoded data removed]",
      "text/plain": [
       "<Figure size 432x288 with 1 Axes>"
      ]
     },
     "metadata": {
      "needs_background": "light"
     },
     "output_type": "display_data"
    }
   ],
   "source": [
    "x=df['shape'].value_counts()\n",
    "df['shape'].value_counts().plot.bar()"
   ]
  },
  {
   "cell_type": "markdown",
   "id": "136283ac",
   "metadata": {},
   "source": [
    "## Groupby"
   ]
  },
  {
   "cell_type": "code",
   "execution_count": 43,
   "id": "d3660b7a",
   "metadata": {},
   "outputs": [],
   "source": [
    "y=df.groupby(['shape']).mean()"
   ]
  },
  {
   "cell_type": "code",
   "execution_count": 44,
   "id": "aa8f6923",
   "metadata": {},
   "outputs": [
    {
     "data": {
      "text/html": [
       "<div>\n",
       "<style scoped>\n",
       "    .dataframe tbody tr th:only-of-type {\n",
       "        vertical-align: middle;\n",
       "    }\n",
       "\n",
       "    .dataframe tbody tr th {\n",
       "        vertical-align: top;\n",
       "    }\n",
       "\n",
       "    .dataframe thead th {\n",
       "        text-align: right;\n",
       "    }\n",
       "</style>\n",
       "<table border=\"1\" class=\"dataframe\">\n",
       "  <thead>\n",
       "    <tr style=\"text-align: right;\">\n",
       "      <th></th>\n",
       "      <th>latitude</th>\n",
       "      <th>longitude</th>\n",
       "      <th>duration (seconds)</th>\n",
       "    </tr>\n",
       "    <tr>\n",
       "      <th>shape</th>\n",
       "      <th></th>\n",
       "      <th></th>\n",
       "      <th></th>\n",
       "    </tr>\n",
       "  </thead>\n",
       "  <tbody>\n",
       "    <tr>\n",
       "      <th>changed</th>\n",
       "      <td>39.729444</td>\n",
       "      <td>-104.831389</td>\n",
       "      <td>3600.000000</td>\n",
       "    </tr>\n",
       "    <tr>\n",
       "      <th>changing</th>\n",
       "      <td>37.660586</td>\n",
       "      <td>-87.900544</td>\n",
       "      <td>2079.513405</td>\n",
       "    </tr>\n",
       "    <tr>\n",
       "      <th>chevron</th>\n",
       "      <td>37.737863</td>\n",
       "      <td>-91.274478</td>\n",
       "      <td>460.317174</td>\n",
       "    </tr>\n",
       "    <tr>\n",
       "      <th>cigar</th>\n",
       "      <td>38.200653</td>\n",
       "      <td>-84.410719</td>\n",
       "      <td>1917.106830</td>\n",
       "    </tr>\n",
       "    <tr>\n",
       "      <th>circle</th>\n",
       "      <td>37.997053</td>\n",
       "      <td>-84.234383</td>\n",
       "      <td>4768.092717</td>\n",
       "    </tr>\n",
       "    <tr>\n",
       "      <th>cone</th>\n",
       "      <td>37.037475</td>\n",
       "      <td>-78.898601</td>\n",
       "      <td>82827.405063</td>\n",
       "    </tr>\n",
       "    <tr>\n",
       "      <th>crescent</th>\n",
       "      <td>43.858732</td>\n",
       "      <td>-80.573420</td>\n",
       "      <td>18905.000000</td>\n",
       "    </tr>\n",
       "    <tr>\n",
       "      <th>cross</th>\n",
       "      <td>38.306791</td>\n",
       "      <td>-86.827651</td>\n",
       "      <td>748.519313</td>\n",
       "    </tr>\n",
       "    <tr>\n",
       "      <th>cylinder</th>\n",
       "      <td>37.595064</td>\n",
       "      <td>-87.086693</td>\n",
       "      <td>3426.512471</td>\n",
       "    </tr>\n",
       "    <tr>\n",
       "      <th>delta</th>\n",
       "      <td>39.985913</td>\n",
       "      <td>-96.955595</td>\n",
       "      <td>2307.857143</td>\n",
       "    </tr>\n",
       "    <tr>\n",
       "      <th>diamond</th>\n",
       "      <td>38.358098</td>\n",
       "      <td>-84.967650</td>\n",
       "      <td>1413.628625</td>\n",
       "    </tr>\n",
       "    <tr>\n",
       "      <th>disk</th>\n",
       "      <td>37.479659</td>\n",
       "      <td>-84.348935</td>\n",
       "      <td>1460.431677</td>\n",
       "    </tr>\n",
       "    <tr>\n",
       "      <th>dome</th>\n",
       "      <td>40.536485</td>\n",
       "      <td>-80.184424</td>\n",
       "      <td>2.000000</td>\n",
       "    </tr>\n",
       "    <tr>\n",
       "      <th>egg</th>\n",
       "      <td>37.156933</td>\n",
       "      <td>-81.369520</td>\n",
       "      <td>1886.793281</td>\n",
       "    </tr>\n",
       "    <tr>\n",
       "      <th>fireball</th>\n",
       "      <td>38.203542</td>\n",
       "      <td>-87.144358</td>\n",
       "      <td>4023.941484</td>\n",
       "    </tr>\n",
       "    <tr>\n",
       "      <th>flare</th>\n",
       "      <td>38.581667</td>\n",
       "      <td>-121.493333</td>\n",
       "      <td>30.000000</td>\n",
       "    </tr>\n",
       "    <tr>\n",
       "      <th>flash</th>\n",
       "      <td>38.659952</td>\n",
       "      <td>-89.139728</td>\n",
       "      <td>5330.289421</td>\n",
       "    </tr>\n",
       "    <tr>\n",
       "      <th>formation</th>\n",
       "      <td>38.300829</td>\n",
       "      <td>-87.742350</td>\n",
       "      <td>1254.048547</td>\n",
       "    </tr>\n",
       "    <tr>\n",
       "      <th>hexagon</th>\n",
       "      <td>40.559444</td>\n",
       "      <td>-79.958889</td>\n",
       "      <td>240.000000</td>\n",
       "    </tr>\n",
       "    <tr>\n",
       "      <th>light</th>\n",
       "      <td>38.158440</td>\n",
       "      <td>-87.804349</td>\n",
       "      <td>13170.345373</td>\n",
       "    </tr>\n",
       "    <tr>\n",
       "      <th>other</th>\n",
       "      <td>37.996833</td>\n",
       "      <td>-86.002039</td>\n",
       "      <td>20634.210977</td>\n",
       "    </tr>\n",
       "    <tr>\n",
       "      <th>oval</th>\n",
       "      <td>37.767742</td>\n",
       "      <td>-85.385792</td>\n",
       "      <td>3898.586311</td>\n",
       "    </tr>\n",
       "    <tr>\n",
       "      <th>pyramid</th>\n",
       "      <td>45.560833</td>\n",
       "      <td>-94.162222</td>\n",
       "      <td>120.000000</td>\n",
       "    </tr>\n",
       "    <tr>\n",
       "      <th>rectangle</th>\n",
       "      <td>37.836863</td>\n",
       "      <td>-86.777416</td>\n",
       "      <td>683.183346</td>\n",
       "    </tr>\n",
       "    <tr>\n",
       "      <th>round</th>\n",
       "      <td>37.931250</td>\n",
       "      <td>-97.414583</td>\n",
       "      <td>452.500000</td>\n",
       "    </tr>\n",
       "    <tr>\n",
       "      <th>sphere</th>\n",
       "      <td>38.494125</td>\n",
       "      <td>-87.959960</td>\n",
       "      <td>21787.298238</td>\n",
       "    </tr>\n",
       "    <tr>\n",
       "      <th>teardrop</th>\n",
       "      <td>38.174186</td>\n",
       "      <td>-80.970988</td>\n",
       "      <td>942.946000</td>\n",
       "    </tr>\n",
       "    <tr>\n",
       "      <th>triangle</th>\n",
       "      <td>38.346342</td>\n",
       "      <td>-87.383127</td>\n",
       "      <td>1664.266397</td>\n",
       "    </tr>\n",
       "    <tr>\n",
       "      <th>unknown</th>\n",
       "      <td>38.242350</td>\n",
       "      <td>-87.718418</td>\n",
       "      <td>5546.723104</td>\n",
       "    </tr>\n",
       "  </tbody>\n",
       "</table>\n",
       "</div>"
      ],
      "text/plain": [
       "            latitude  longitude   duration (seconds)\n",
       "shape                                               \n",
       "changed    39.729444 -104.831389         3600.000000\n",
       "changing   37.660586  -87.900544         2079.513405\n",
       "chevron    37.737863  -91.274478          460.317174\n",
       "cigar      38.200653  -84.410719         1917.106830\n",
       "circle     37.997053  -84.234383         4768.092717\n",
       "cone       37.037475  -78.898601        82827.405063\n",
       "crescent   43.858732  -80.573420        18905.000000\n",
       "cross      38.306791  -86.827651          748.519313\n",
       "cylinder   37.595064  -87.086693         3426.512471\n",
       "delta      39.985913  -96.955595         2307.857143\n",
       "diamond    38.358098  -84.967650         1413.628625\n",
       "disk       37.479659  -84.348935         1460.431677\n",
       "dome       40.536485  -80.184424            2.000000\n",
       "egg        37.156933  -81.369520         1886.793281\n",
       "fireball   38.203542  -87.144358         4023.941484\n",
       "flare      38.581667 -121.493333           30.000000\n",
       "flash      38.659952  -89.139728         5330.289421\n",
       "formation  38.300829  -87.742350         1254.048547\n",
       "hexagon    40.559444  -79.958889          240.000000\n",
       "light      38.158440  -87.804349        13170.345373\n",
       "other      37.996833  -86.002039        20634.210977\n",
       "oval       37.767742  -85.385792         3898.586311\n",
       "pyramid    45.560833  -94.162222          120.000000\n",
       "rectangle  37.836863  -86.777416          683.183346\n",
       "round      37.931250  -97.414583          452.500000\n",
       "sphere     38.494125  -87.959960        21787.298238\n",
       "teardrop   38.174186  -80.970988          942.946000\n",
       "triangle   38.346342  -87.383127         1664.266397\n",
       "unknown    38.242350  -87.718418         5546.723104"
      ]
     },
     "execution_count": 44,
     "metadata": {},
     "output_type": "execute_result"
    }
   ],
   "source": [
    "y"
   ]
  },
  {
   "cell_type": "markdown",
   "id": "9cab8c3b",
   "metadata": {},
   "source": [
    "## Plotting"
   ]
  },
  {
   "cell_type": "code",
   "execution_count": 50,
   "id": "c97036cf",
   "metadata": {},
   "outputs": [
    {
     "data": {
      "text/plain": [
       "[<matplotlib.lines.Line2D at 0x7f41daff43d0>]"
      ]
     },
     "execution_count": 50,
     "metadata": {},
     "output_type": "execute_result"
    },
    {
     "data": {
      "image/png": "[encoded data removed]",
      "text/plain": [
       "<Figure size 432x288 with 1 Axes>"
      ]
     },
     "metadata": {
      "needs_background": "light"
     },
     "output_type": "display_data"
    }
   ],
   "source": [
    "plt.plot(df['longitude '],df['latitude'], linestyle='none', marker='o', markersize=5, alpha=0.7)"
   ]
  },
  {
   "cell_type": "markdown",
   "id": "24b4de65",
   "metadata": {},
   "source": [
    "### Subseting"
   ]
  },
  {
   "cell_type": "code",
   "execution_count": 51,
   "id": "74a5758b",
   "metadata": {},
   "outputs": [],
   "source": [
    "utah_df=df.loc[df['state']=='ut']"
   ]
  },
  {
   "cell_type": "code",
   "execution_count": 52,
   "id": "7aa85fb1",
   "metadata": {},
   "outputs": [
    {
     "data": {
      "text/html": [
       "<div>\n",
       "<style scoped>\n",
       "    .dataframe tbody tr th:only-of-type {\n",
       "        vertical-align: middle;\n",
       "    }\n",
       "\n",
       "    .dataframe tbody tr th {\n",
       "        vertical-align: top;\n",
       "    }\n",
       "\n",
       "    .dataframe thead th {\n",
       "        text-align: right;\n",
       "    }\n",
       "</style>\n",
       "<table border=\"1\" class=\"dataframe\">\n",
       "  <thead>\n",
       "    <tr style=\"text-align: right;\">\n",
       "      <th></th>\n",
       "      <th>latitude</th>\n",
       "      <th>longitude</th>\n",
       "      <th>duration (seconds)</th>\n",
       "    </tr>\n",
       "  </thead>\n",
       "  <tbody>\n",
       "    <tr>\n",
       "      <th>count</th>\n",
       "      <td>743.000000</td>\n",
       "      <td>743.000000</td>\n",
       "      <td>7.430000e+02</td>\n",
       "    </tr>\n",
       "    <tr>\n",
       "      <th>mean</th>\n",
       "      <td>40.180774</td>\n",
       "      <td>-111.701524</td>\n",
       "      <td>4.739034e+03</td>\n",
       "    </tr>\n",
       "    <tr>\n",
       "      <th>std</th>\n",
       "      <td>1.281134</td>\n",
       "      <td>4.388055</td>\n",
       "      <td>9.734069e+04</td>\n",
       "    </tr>\n",
       "    <tr>\n",
       "      <th>min</th>\n",
       "      <td>37.004245</td>\n",
       "      <td>-114.036667</td>\n",
       "      <td>5.000000e-01</td>\n",
       "    </tr>\n",
       "    <tr>\n",
       "      <th>25%</th>\n",
       "      <td>40.233889</td>\n",
       "      <td>-111.998303</td>\n",
       "      <td>2.000000e+01</td>\n",
       "    </tr>\n",
       "    <tr>\n",
       "      <th>50%</th>\n",
       "      <td>40.572500</td>\n",
       "      <td>-111.890278</td>\n",
       "      <td>1.800000e+02</td>\n",
       "    </tr>\n",
       "    <tr>\n",
       "      <th>75%</th>\n",
       "      <td>40.760833</td>\n",
       "      <td>-111.731389</td>\n",
       "      <td>6.000000e+02</td>\n",
       "    </tr>\n",
       "    <tr>\n",
       "      <th>max</th>\n",
       "      <td>52.086897</td>\n",
       "      <td>4.882819</td>\n",
       "      <td>2.631600e+06</td>\n",
       "    </tr>\n",
       "  </tbody>\n",
       "</table>\n",
       "</div>"
      ],
      "text/plain": [
       "         latitude  longitude   duration (seconds)\n",
       "count  743.000000  743.000000        7.430000e+02\n",
       "mean    40.180774 -111.701524        4.739034e+03\n",
       "std      1.281134    4.388055        9.734069e+04\n",
       "min     37.004245 -114.036667        5.000000e-01\n",
       "25%     40.233889 -111.998303        2.000000e+01\n",
       "50%     40.572500 -111.890278        1.800000e+02\n",
       "75%     40.760833 -111.731389        6.000000e+02\n",
       "max     52.086897    4.882819        2.631600e+06"
      ]
     },
     "execution_count": 52,
     "metadata": {},
     "output_type": "execute_result"
    }
   ],
   "source": [
    "utah_df.describe()"
   ]
  },
  {
   "cell_type": "code",
   "execution_count": 57,
   "id": "7fcaed0d",
   "metadata": {},
   "outputs": [],
   "source": [
    "#other way to refer to utah\n",
    "\n",
    "for i, lat, long, in zip(df.index,df['latitude'],df['longitude ']):\n",
    "    if (lat>37 and lat<41) and (long>-114 and long<-109):\n",
    "        df.at[i,'Utah']= True\n",
    "    elif (lat>41 and lat<42) and (long>-114 and long<-111):\n",
    "        df.at[i,'Utah']=True\n",
    "    else:\n",
    "        df.at[i,'Utah']=False\n",
    "        \n",
    "        \n",
    "df4=df.copy()\n",
    "df4=df4.drop(df4.loc[df4['Utah']==False].index,axis=0)\n",
    "    "
   ]
  },
  {
   "cell_type": "code",
   "execution_count": 58,
   "id": "cefedb3b",
   "metadata": {},
   "outputs": [
    {
     "data": {
      "text/html": [
       "<div>\n",
       "<style scoped>\n",
       "    .dataframe tbody tr th:only-of-type {\n",
       "        vertical-align: middle;\n",
       "    }\n",
       "\n",
       "    .dataframe tbody tr th {\n",
       "        vertical-align: top;\n",
       "    }\n",
       "\n",
       "    .dataframe thead th {\n",
       "        text-align: right;\n",
       "    }\n",
       "</style>\n",
       "<table border=\"1\" class=\"dataframe\">\n",
       "  <thead>\n",
       "    <tr style=\"text-align: right;\">\n",
       "      <th></th>\n",
       "      <th>latitude</th>\n",
       "      <th>longitude</th>\n",
       "      <th>duration (seconds)</th>\n",
       "    </tr>\n",
       "  </thead>\n",
       "  <tbody>\n",
       "    <tr>\n",
       "      <th>count</th>\n",
       "      <td>733.000000</td>\n",
       "      <td>733.000000</td>\n",
       "      <td>7.330000e+02</td>\n",
       "    </tr>\n",
       "    <tr>\n",
       "      <th>mean</th>\n",
       "      <td>40.154393</td>\n",
       "      <td>-111.843243</td>\n",
       "      <td>4.802278e+03</td>\n",
       "    </tr>\n",
       "    <tr>\n",
       "      <th>std</th>\n",
       "      <td>1.208178</td>\n",
       "      <td>0.806149</td>\n",
       "      <td>9.800268e+04</td>\n",
       "    </tr>\n",
       "    <tr>\n",
       "      <th>min</th>\n",
       "      <td>37.004245</td>\n",
       "      <td>-113.800000</td>\n",
       "      <td>5.000000e-01</td>\n",
       "    </tr>\n",
       "    <tr>\n",
       "      <th>25%</th>\n",
       "      <td>40.233889</td>\n",
       "      <td>-111.995556</td>\n",
       "      <td>2.000000e+01</td>\n",
       "    </tr>\n",
       "    <tr>\n",
       "      <th>50%</th>\n",
       "      <td>40.572500</td>\n",
       "      <td>-111.890278</td>\n",
       "      <td>1.800000e+02</td>\n",
       "    </tr>\n",
       "    <tr>\n",
       "      <th>75%</th>\n",
       "      <td>40.760833</td>\n",
       "      <td>-111.720000</td>\n",
       "      <td>6.000000e+02</td>\n",
       "    </tr>\n",
       "    <tr>\n",
       "      <th>max</th>\n",
       "      <td>41.817500</td>\n",
       "      <td>-109.013889</td>\n",
       "      <td>2.631600e+06</td>\n",
       "    </tr>\n",
       "  </tbody>\n",
       "</table>\n",
       "</div>"
      ],
      "text/plain": [
       "         latitude  longitude   duration (seconds)\n",
       "count  733.000000  733.000000        7.330000e+02\n",
       "mean    40.154393 -111.843243        4.802278e+03\n",
       "std      1.208178    0.806149        9.800268e+04\n",
       "min     37.004245 -113.800000        5.000000e-01\n",
       "25%     40.233889 -111.995556        2.000000e+01\n",
       "50%     40.572500 -111.890278        1.800000e+02\n",
       "75%     40.760833 -111.720000        6.000000e+02\n",
       "max     41.817500 -109.013889        2.631600e+06"
      ]
     },
     "execution_count": 58,
     "metadata": {},
     "output_type": "execute_result"
    }
   ],
   "source": [
    "df4.describe()"
   ]
  },
  {
   "cell_type": "markdown",
   "id": "90d7baed",
   "metadata": {},
   "source": [
    "### Conditional Columns"
   ]
  },
  {
   "cell_type": "code",
   "execution_count": 10,
   "id": "b0d5e21a",
   "metadata": {},
   "outputs": [
    {
     "name": "stdout",
     "output_type": "stream",
     "text": [
      "      Name  Age Birth City Gender\n",
      "0     Kate   33     London      F\n",
      "1  Melissa   45      Paris      F\n",
      "2     John   35    Toronto      M\n",
      "3     Matt   64    Atlanta      M\n"
     ]
    }
   ],
   "source": [
    "dfcol=pd.DataFrame.from_dict(\n",
    "    {\n",
    "        'Name':['Kate','Melissa','John','Matt'],\n",
    "        'Age':[33,45,35,64],\n",
    "        'Birth City': ['London','Paris','Toronto','Atlanta'],\n",
    "        'Gender': ['F','F','M','M']\n",
    "        }  )\n",
    "print(dfcol)"
   ]
  },
  {
   "cell_type": "code",
   "execution_count": 14,
   "id": "c5872fc9",
   "metadata": {},
   "outputs": [],
   "source": [
    "dfcol['Age Category']='40+ years Old'"
   ]
  },
  {
   "cell_type": "code",
   "execution_count": 16,
   "id": "7db699ed",
   "metadata": {},
   "outputs": [],
   "source": [
    "dfcol.loc[dfcol['Age']<40,'Age Category']='<40 years Old'"
   ]
  },
  {
   "cell_type": "code",
   "execution_count": 17,
   "id": "ad80b4db",
   "metadata": {},
   "outputs": [
    {
     "name": "stdout",
     "output_type": "stream",
     "text": [
      "      Name  Age Birth City Gender   Age Category\n",
      "0     Kate   33     London      F  <40 years Old\n",
      "1  Melissa   45      Paris      F  40+ years Old\n",
      "2     John   35    Toronto      M  <40 years Old\n",
      "3     Matt   64    Atlanta      M  40+ years Old\n"
     ]
    }
   ],
   "source": [
    "print(dfcol)"
   ]
  },
  {
   "cell_type": "markdown",
   "id": "38cc0693",
   "metadata": {},
   "source": [
    "### When we have multiple columns we can use  a numpy select function"
   ]
  },
  {
   "cell_type": "markdown",
   "id": "568c897e",
   "metadata": {},
   "source": [
    "Create two lists: 1) Conditions, 2) Values to assign"
   ]
  },
  {
   "cell_type": "code",
   "execution_count": 26,
   "id": "2e6043ec",
   "metadata": {},
   "outputs": [],
   "source": [
    "conditions=[\n",
    "    (dfcol['Age']<30),\n",
    "    (dfcol['Age']>=30)&(dfcol['Age']<40),\n",
    "    (dfcol['Age']>=40)&(dfcol['Age']<50),\n",
    "    (dfcol['Age']>=50)&(dfcol['Age']<60),\n",
    "    (dfcol['Age']>=60)\n",
    "    ]"
   ]
  },
  {
   "cell_type": "code",
   "execution_count": 27,
   "id": "ea2318ef",
   "metadata": {},
   "outputs": [],
   "source": [
    "values=['<30 years old','30-39 years old','40-49 years old','50-59 years old','60+ years old']"
   ]
  },
  {
   "cell_type": "code",
   "execution_count": 28,
   "id": "29b62257",
   "metadata": {},
   "outputs": [],
   "source": [
    "dfcol['Age Group']=np.select(conditions,values)"
   ]
  },
  {
   "cell_type": "code",
   "execution_count": 29,
   "id": "e3d34173",
   "metadata": {},
   "outputs": [
    {
     "data": {
      "text/html": [
       "<div>\n",
       "<style scoped>\n",
       "    .dataframe tbody tr th:only-of-type {\n",
       "        vertical-align: middle;\n",
       "    }\n",
       "\n",
       "    .dataframe tbody tr th {\n",
       "        vertical-align: top;\n",
       "    }\n",
       "\n",
       "    .dataframe thead th {\n",
       "        text-align: right;\n",
       "    }\n",
       "</style>\n",
       "<table border=\"1\" class=\"dataframe\">\n",
       "  <thead>\n",
       "    <tr style=\"text-align: right;\">\n",
       "      <th></th>\n",
       "      <th>Name</th>\n",
       "      <th>Age</th>\n",
       "      <th>Birth City</th>\n",
       "      <th>Gender</th>\n",
       "      <th>Age Category</th>\n",
       "      <th>Age Group</th>\n",
       "    </tr>\n",
       "  </thead>\n",
       "  <tbody>\n",
       "    <tr>\n",
       "      <th>0</th>\n",
       "      <td>Kate</td>\n",
       "      <td>33</td>\n",
       "      <td>London</td>\n",
       "      <td>F</td>\n",
       "      <td>&lt;40 years Old</td>\n",
       "      <td>30-39 years old</td>\n",
       "    </tr>\n",
       "    <tr>\n",
       "      <th>1</th>\n",
       "      <td>Melissa</td>\n",
       "      <td>45</td>\n",
       "      <td>Paris</td>\n",
       "      <td>F</td>\n",
       "      <td>40+ years Old</td>\n",
       "      <td>40-49 years old</td>\n",
       "    </tr>\n",
       "    <tr>\n",
       "      <th>2</th>\n",
       "      <td>John</td>\n",
       "      <td>35</td>\n",
       "      <td>Toronto</td>\n",
       "      <td>M</td>\n",
       "      <td>&lt;40 years Old</td>\n",
       "      <td>30-39 years old</td>\n",
       "    </tr>\n",
       "    <tr>\n",
       "      <th>3</th>\n",
       "      <td>Matt</td>\n",
       "      <td>64</td>\n",
       "      <td>Atlanta</td>\n",
       "      <td>M</td>\n",
       "      <td>40+ years Old</td>\n",
       "      <td>60+ years old</td>\n",
       "    </tr>\n",
       "  </tbody>\n",
       "</table>\n",
       "</div>"
      ],
      "text/plain": [
       "      Name  Age Birth City Gender   Age Category        Age Group\n",
       "0     Kate   33     London      F  <40 years Old  30-39 years old\n",
       "1  Melissa   45      Paris      F  40+ years Old  40-49 years old\n",
       "2     John   35    Toronto      M  <40 years Old  30-39 years old\n",
       "3     Matt   64    Atlanta      M  40+ years Old    60+ years old"
      ]
     },
     "execution_count": 29,
     "metadata": {},
     "output_type": "execute_result"
    }
   ],
   "source": [
    "dfcol"
   ]
  },
  {
   "cell_type": "markdown",
   "id": "5ca1cd80",
   "metadata": {},
   "source": [
    "Supose we want to add a Birth country column based on an existing column"
   ]
  },
  {
   "cell_type": "code",
   "execution_count": 30,
   "id": "19b9d20e",
   "metadata": {},
   "outputs": [],
   "source": [
    "city_countries={'London':'England','Paris':'France','Atlanta':'USA'}"
   ]
  },
  {
   "cell_type": "code",
   "execution_count": 34,
   "id": "6fda217b",
   "metadata": {},
   "outputs": [],
   "source": [
    "dfcol['Birth Countries']=dfcol['Birth City'].map(city_countries).fillna('other')"
   ]
  },
  {
   "cell_type": "markdown",
   "id": "669f46a3",
   "metadata": {},
   "source": [
    "We can define a column based on the length of a colum"
   ]
  },
  {
   "cell_type": "code",
   "execution_count": 37,
   "id": "823d6da0",
   "metadata": {},
   "outputs": [],
   "source": [
    "dfcol['Name Lenght'] =dfcol['Name'].apply(len)"
   ]
  },
  {
   "cell_type": "markdown",
   "id": "b71b2358",
   "metadata": {},
   "source": [
    "##### Defining a columns based on multiple conditions"
   ]
  },
  {
   "cell_type": "code",
   "execution_count": 41,
   "id": "fbb1c75c",
   "metadata": {},
   "outputs": [],
   "source": [
    "def age_group(x):\n",
    "    if x<30:\n",
    "        return '<30 years old'\n",
    "    elif x<40:\n",
    "        return '30-39 years old'\n",
    "    elif x<50:\n",
    "        return '40-49 years old'\n",
    "    else:\n",
    "        return '50+ years old'"
   ]
  },
  {
   "cell_type": "code",
   "execution_count": 42,
   "id": "d967f105",
   "metadata": {},
   "outputs": [
    {
     "data": {
      "text/html": [
       "<div>\n",
       "<style scoped>\n",
       "    .dataframe tbody tr th:only-of-type {\n",
       "        vertical-align: middle;\n",
       "    }\n",
       "\n",
       "    .dataframe tbody tr th {\n",
       "        vertical-align: top;\n",
       "    }\n",
       "\n",
       "    .dataframe thead th {\n",
       "        text-align: right;\n",
       "    }\n",
       "</style>\n",
       "<table border=\"1\" class=\"dataframe\">\n",
       "  <thead>\n",
       "    <tr style=\"text-align: right;\">\n",
       "      <th></th>\n",
       "      <th>Name</th>\n",
       "      <th>Age</th>\n",
       "      <th>Birth City</th>\n",
       "      <th>Gender</th>\n",
       "      <th>Age Category</th>\n",
       "      <th>Age Group</th>\n",
       "      <th>Birth Countries</th>\n",
       "      <th>Name Lenght</th>\n",
       "    </tr>\n",
       "  </thead>\n",
       "  <tbody>\n",
       "    <tr>\n",
       "      <th>0</th>\n",
       "      <td>Kate</td>\n",
       "      <td>33</td>\n",
       "      <td>London</td>\n",
       "      <td>F</td>\n",
       "      <td>&lt;40 years Old</td>\n",
       "      <td>30-39 years old</td>\n",
       "      <td>England</td>\n",
       "      <td>4</td>\n",
       "    </tr>\n",
       "    <tr>\n",
       "      <th>1</th>\n",
       "      <td>Melissa</td>\n",
       "      <td>45</td>\n",
       "      <td>Paris</td>\n",
       "      <td>F</td>\n",
       "      <td>40+ years Old</td>\n",
       "      <td>40-49 years old</td>\n",
       "      <td>France</td>\n",
       "      <td>7</td>\n",
       "    </tr>\n",
       "    <tr>\n",
       "      <th>2</th>\n",
       "      <td>John</td>\n",
       "      <td>35</td>\n",
       "      <td>Toronto</td>\n",
       "      <td>M</td>\n",
       "      <td>&lt;40 years Old</td>\n",
       "      <td>30-39 years old</td>\n",
       "      <td>other</td>\n",
       "      <td>4</td>\n",
       "    </tr>\n",
       "    <tr>\n",
       "      <th>3</th>\n",
       "      <td>Matt</td>\n",
       "      <td>64</td>\n",
       "      <td>Atlanta</td>\n",
       "      <td>M</td>\n",
       "      <td>40+ years Old</td>\n",
       "      <td>60+ years old</td>\n",
       "      <td>USA</td>\n",
       "      <td>4</td>\n",
       "    </tr>\n",
       "  </tbody>\n",
       "</table>\n",
       "</div>"
      ],
      "text/plain": [
       "      Name  Age Birth City Gender   Age Category        Age Group  \\\n",
       "0     Kate   33     London      F  <40 years Old  30-39 years old   \n",
       "1  Melissa   45      Paris      F  40+ years Old  40-49 years old   \n",
       "2     John   35    Toronto      M  <40 years Old  30-39 years old   \n",
       "3     Matt   64    Atlanta      M  40+ years Old    60+ years old   \n",
       "\n",
       "  Birth Countries  Name Lenght  \n",
       "0         England            4  \n",
       "1          France            7  \n",
       "2           other            4  \n",
       "3             USA            4  "
      ]
     },
     "execution_count": 42,
     "metadata": {},
     "output_type": "execute_result"
    }
   ],
   "source": [
    "dfcol"
   ]
  },
  {
   "cell_type": "code",
   "execution_count": 43,
   "id": "6be95f51",
   "metadata": {},
   "outputs": [],
   "source": [
    "dfcol['Age Category']=dfcol['Age'].apply(age_group)"
   ]
  },
  {
   "cell_type": "code",
   "execution_count": 44,
   "id": "e73247b3",
   "metadata": {},
   "outputs": [
    {
     "data": {
      "text/html": [
       "<div>\n",
       "<style scoped>\n",
       "    .dataframe tbody tr th:only-of-type {\n",
       "        vertical-align: middle;\n",
       "    }\n",
       "\n",
       "    .dataframe tbody tr th {\n",
       "        vertical-align: top;\n",
       "    }\n",
       "\n",
       "    .dataframe thead th {\n",
       "        text-align: right;\n",
       "    }\n",
       "</style>\n",
       "<table border=\"1\" class=\"dataframe\">\n",
       "  <thead>\n",
       "    <tr style=\"text-align: right;\">\n",
       "      <th></th>\n",
       "      <th>Name</th>\n",
       "      <th>Age</th>\n",
       "      <th>Birth City</th>\n",
       "      <th>Gender</th>\n",
       "      <th>Age Category</th>\n",
       "      <th>Age Group</th>\n",
       "      <th>Birth Countries</th>\n",
       "      <th>Name Lenght</th>\n",
       "    </tr>\n",
       "  </thead>\n",
       "  <tbody>\n",
       "    <tr>\n",
       "      <th>0</th>\n",
       "      <td>Kate</td>\n",
       "      <td>33</td>\n",
       "      <td>London</td>\n",
       "      <td>F</td>\n",
       "      <td>30-39 years old</td>\n",
       "      <td>30-39 years old</td>\n",
       "      <td>England</td>\n",
       "      <td>4</td>\n",
       "    </tr>\n",
       "    <tr>\n",
       "      <th>1</th>\n",
       "      <td>Melissa</td>\n",
       "      <td>45</td>\n",
       "      <td>Paris</td>\n",
       "      <td>F</td>\n",
       "      <td>40-49 years old</td>\n",
       "      <td>40-49 years old</td>\n",
       "      <td>France</td>\n",
       "      <td>7</td>\n",
       "    </tr>\n",
       "    <tr>\n",
       "      <th>2</th>\n",
       "      <td>John</td>\n",
       "      <td>35</td>\n",
       "      <td>Toronto</td>\n",
       "      <td>M</td>\n",
       "      <td>30-39 years old</td>\n",
       "      <td>30-39 years old</td>\n",
       "      <td>other</td>\n",
       "      <td>4</td>\n",
       "    </tr>\n",
       "    <tr>\n",
       "      <th>3</th>\n",
       "      <td>Matt</td>\n",
       "      <td>64</td>\n",
       "      <td>Atlanta</td>\n",
       "      <td>M</td>\n",
       "      <td>50+ years old</td>\n",
       "      <td>60+ years old</td>\n",
       "      <td>USA</td>\n",
       "      <td>4</td>\n",
       "    </tr>\n",
       "  </tbody>\n",
       "</table>\n",
       "</div>"
      ],
      "text/plain": [
       "      Name  Age Birth City Gender     Age Category        Age Group  \\\n",
       "0     Kate   33     London      F  30-39 years old  30-39 years old   \n",
       "1  Melissa   45      Paris      F  40-49 years old  40-49 years old   \n",
       "2     John   35    Toronto      M  30-39 years old  30-39 years old   \n",
       "3     Matt   64    Atlanta      M    50+ years old    60+ years old   \n",
       "\n",
       "  Birth Countries  Name Lenght  \n",
       "0         England            4  \n",
       "1          France            7  \n",
       "2           other            4  \n",
       "3             USA            4  "
      ]
     },
     "execution_count": 44,
     "metadata": {},
     "output_type": "execute_result"
    }
   ],
   "source": [
    "dfcol"
   ]
  },
  {
   "cell_type": "code",
   "execution_count": 45,
   "id": "650f620d",
   "metadata": {},
   "outputs": [],
   "source": [
    "continent_countries={'England':'Europe','France':'Europe','USA':'America'}"
   ]
  },
  {
   "cell_type": "code",
   "execution_count": 48,
   "id": "92f06a7c",
   "metadata": {},
   "outputs": [],
   "source": [
    "dfcol['Birth Continent']=dfcol['Birth Countries'].map(continent_countries).fillna('Other')"
   ]
  },
  {
   "cell_type": "code",
   "execution_count": 49,
   "id": "c004e5bf",
   "metadata": {},
   "outputs": [
    {
     "data": {
      "text/html": [
       "<div>\n",
       "<style scoped>\n",
       "    .dataframe tbody tr th:only-of-type {\n",
       "        vertical-align: middle;\n",
       "    }\n",
       "\n",
       "    .dataframe tbody tr th {\n",
       "        vertical-align: top;\n",
       "    }\n",
       "\n",
       "    .dataframe thead th {\n",
       "        text-align: right;\n",
       "    }\n",
       "</style>\n",
       "<table border=\"1\" class=\"dataframe\">\n",
       "  <thead>\n",
       "    <tr style=\"text-align: right;\">\n",
       "      <th></th>\n",
       "      <th>Name</th>\n",
       "      <th>Age</th>\n",
       "      <th>Birth City</th>\n",
       "      <th>Gender</th>\n",
       "      <th>Age Category</th>\n",
       "      <th>Age Group</th>\n",
       "      <th>Birth Countries</th>\n",
       "      <th>Name Lenght</th>\n",
       "      <th>Birth Continent</th>\n",
       "    </tr>\n",
       "  </thead>\n",
       "  <tbody>\n",
       "    <tr>\n",
       "      <th>0</th>\n",
       "      <td>Kate</td>\n",
       "      <td>33</td>\n",
       "      <td>London</td>\n",
       "      <td>F</td>\n",
       "      <td>30-39 years old</td>\n",
       "      <td>30-39 years old</td>\n",
       "      <td>England</td>\n",
       "      <td>4</td>\n",
       "      <td>Europe</td>\n",
       "    </tr>\n",
       "    <tr>\n",
       "      <th>1</th>\n",
       "      <td>Melissa</td>\n",
       "      <td>45</td>\n",
       "      <td>Paris</td>\n",
       "      <td>F</td>\n",
       "      <td>40-49 years old</td>\n",
       "      <td>40-49 years old</td>\n",
       "      <td>France</td>\n",
       "      <td>7</td>\n",
       "      <td>Europe</td>\n",
       "    </tr>\n",
       "    <tr>\n",
       "      <th>2</th>\n",
       "      <td>John</td>\n",
       "      <td>35</td>\n",
       "      <td>Toronto</td>\n",
       "      <td>M</td>\n",
       "      <td>30-39 years old</td>\n",
       "      <td>30-39 years old</td>\n",
       "      <td>other</td>\n",
       "      <td>4</td>\n",
       "      <td>Other</td>\n",
       "    </tr>\n",
       "    <tr>\n",
       "      <th>3</th>\n",
       "      <td>Matt</td>\n",
       "      <td>64</td>\n",
       "      <td>Atlanta</td>\n",
       "      <td>M</td>\n",
       "      <td>50+ years old</td>\n",
       "      <td>60+ years old</td>\n",
       "      <td>USA</td>\n",
       "      <td>4</td>\n",
       "      <td>America</td>\n",
       "    </tr>\n",
       "  </tbody>\n",
       "</table>\n",
       "</div>"
      ],
      "text/plain": [
       "      Name  Age Birth City Gender     Age Category        Age Group  \\\n",
       "0     Kate   33     London      F  30-39 years old  30-39 years old   \n",
       "1  Melissa   45      Paris      F  40-49 years old  40-49 years old   \n",
       "2     John   35    Toronto      M  30-39 years old  30-39 years old   \n",
       "3     Matt   64    Atlanta      M    50+ years old    60+ years old   \n",
       "\n",
       "  Birth Countries  Name Lenght Birth Continent  \n",
       "0         England            4          Europe  \n",
       "1          France            7          Europe  \n",
       "2           other            4           Other  \n",
       "3             USA            4         America  "
      ]
     },
     "execution_count": 49,
     "metadata": {},
     "output_type": "execute_result"
    }
   ],
   "source": [
    "dfcol"
   ]
  },
  {
   "cell_type": "code",
   "execution_count": 51,
   "id": "a003aabf",
   "metadata": {},
   "outputs": [],
   "source": [
    "def NSE_SUMA(x,y):\n",
    "    if (x=='Europe')&(y=='F'):\n",
    "        return 'European Female'\n",
    "    elif (x=='Europe')&(y=='M'):\n",
    "        return 'European Male'\n",
    "    elif (x=='America')&(y=='F'):\n",
    "        return 'American Females'\n",
    "    elif (x=='America')&(y=='M'):\n",
    "        return 'American Male'\n",
    "    else:\n",
    "        return 'Not defined'"
   ]
  },
  {
   "cell_type": "code",
   "execution_count": 56,
   "id": "dd807f33",
   "metadata": {},
   "outputs": [],
   "source": [
    "dfcol['Continent Sex'] = dfcol.apply(lambda x: sex_continent(x['Birth Continent'], x['Gender']), axis=1)"
   ]
  },
  {
   "cell_type": "code",
   "execution_count": 57,
   "id": "1abfde54",
   "metadata": {},
   "outputs": [
    {
     "data": {
      "text/html": [
       "<div>\n",
       "<style scoped>\n",
       "    .dataframe tbody tr th:only-of-type {\n",
       "        vertical-align: middle;\n",
       "    }\n",
       "\n",
       "    .dataframe tbody tr th {\n",
       "        vertical-align: top;\n",
       "    }\n",
       "\n",
       "    .dataframe thead th {\n",
       "        text-align: right;\n",
       "    }\n",
       "</style>\n",
       "<table border=\"1\" class=\"dataframe\">\n",
       "  <thead>\n",
       "    <tr style=\"text-align: right;\">\n",
       "      <th></th>\n",
       "      <th>Name</th>\n",
       "      <th>Age</th>\n",
       "      <th>Birth City</th>\n",
       "      <th>Gender</th>\n",
       "      <th>Age Category</th>\n",
       "      <th>Age Group</th>\n",
       "      <th>Birth Countries</th>\n",
       "      <th>Name Lenght</th>\n",
       "      <th>Birth Continent</th>\n",
       "      <th>Continent Sex</th>\n",
       "    </tr>\n",
       "  </thead>\n",
       "  <tbody>\n",
       "    <tr>\n",
       "      <th>0</th>\n",
       "      <td>Kate</td>\n",
       "      <td>33</td>\n",
       "      <td>London</td>\n",
       "      <td>F</td>\n",
       "      <td>30-39 years old</td>\n",
       "      <td>30-39 years old</td>\n",
       "      <td>England</td>\n",
       "      <td>4</td>\n",
       "      <td>Europe</td>\n",
       "      <td>European Female</td>\n",
       "    </tr>\n",
       "    <tr>\n",
       "      <th>1</th>\n",
       "      <td>Melissa</td>\n",
       "      <td>45</td>\n",
       "      <td>Paris</td>\n",
       "      <td>F</td>\n",
       "      <td>40-49 years old</td>\n",
       "      <td>40-49 years old</td>\n",
       "      <td>France</td>\n",
       "      <td>7</td>\n",
       "      <td>Europe</td>\n",
       "      <td>European Female</td>\n",
       "    </tr>\n",
       "    <tr>\n",
       "      <th>2</th>\n",
       "      <td>John</td>\n",
       "      <td>35</td>\n",
       "      <td>Toronto</td>\n",
       "      <td>M</td>\n",
       "      <td>30-39 years old</td>\n",
       "      <td>30-39 years old</td>\n",
       "      <td>other</td>\n",
       "      <td>4</td>\n",
       "      <td>Other</td>\n",
       "      <td>Not defined</td>\n",
       "    </tr>\n",
       "    <tr>\n",
       "      <th>3</th>\n",
       "      <td>Matt</td>\n",
       "      <td>64</td>\n",
       "      <td>Atlanta</td>\n",
       "      <td>M</td>\n",
       "      <td>50+ years old</td>\n",
       "      <td>60+ years old</td>\n",
       "      <td>USA</td>\n",
       "      <td>4</td>\n",
       "      <td>America</td>\n",
       "      <td>American Male</td>\n",
       "    </tr>\n",
       "  </tbody>\n",
       "</table>\n",
       "</div>"
      ],
      "text/plain": [
       "      Name  Age Birth City Gender     Age Category        Age Group  \\\n",
       "0     Kate   33     London      F  30-39 years old  30-39 years old   \n",
       "1  Melissa   45      Paris      F  40-49 years old  40-49 years old   \n",
       "2     John   35    Toronto      M  30-39 years old  30-39 years old   \n",
       "3     Matt   64    Atlanta      M    50+ years old    60+ years old   \n",
       "\n",
       "  Birth Countries  Name Lenght Birth Continent    Continent Sex  \n",
       "0         England            4          Europe  European Female  \n",
       "1          France            7          Europe  European Female  \n",
       "2           other            4           Other      Not defined  \n",
       "3             USA            4         America    American Male  "
      ]
     },
     "execution_count": 57,
     "metadata": {},
     "output_type": "execute_result"
    }
   ],
   "source": [
    "dfcol"
   ]
  },
  {
   "cell_type": "code",
   "execution_count": null,
   "id": "24f7ef25",
   "metadata": {},
   "outputs": [],
   "source": []
  }
 ],
 "metadata": {
  "kernelspec": {
   "display_name": "Python 3 (ipykernel)",
   "language": "python",
   "name": "python3"
  },
  "language_info": {
   "codemirror_mode": {
    "name": "ipython",
    "version": 3
   },
   "file_extension": ".py",
   "mimetype": "text/x-python",
   "name": "python",
   "nbconvert_exporter": "python",
   "pygments_lexer": "ipython3",
   "version": "3.10.4"
  }
 },
 "nbformat": 4,
 "nbformat_minor": 5
}
