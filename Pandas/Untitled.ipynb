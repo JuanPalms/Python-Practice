{
 "cells": [
  {
   "cell_type": "markdown",
   "id": "8087817c",
   "metadata": {},
   "source": [
    "## Efective Pandas\n",
    "\n",
    "Practice notebook of exercises contained in Effective Pandas:Patterns for Data Manipulation \n",
    "by Matt Harrison"
   ]
  },
  {
   "cell_type": "markdown",
   "id": "cca09132",
   "metadata": {},
   "source": [
    "### Series\n",
    "\n",
    "Series are used to model one dimensional data. A serie is one dimensional, therefore, it has a single axis- the index\n",
    "\n"
   ]
  },
  {
   "cell_type": "code",
   "execution_count": 1,
   "id": "458b140a",
   "metadata": {},
   "outputs": [],
   "source": [
    "import pandas as pd"
   ]
  },
  {
   "cell_type": "code",
   "execution_count": 2,
   "id": "df7e1816",
   "metadata": {},
   "outputs": [],
   "source": [
    "songs2=pd.Series([145,142,38,13],name='counts')"
   ]
  },
  {
   "cell_type": "code",
   "execution_count": 4,
   "id": "c9bef999",
   "metadata": {},
   "outputs": [
    {
     "data": {
      "text/plain": [
       "0    145\n",
       "1    142\n",
       "2     38\n",
       "3     13\n",
       "Name: counts, dtype: int64"
      ]
     },
     "execution_count": 4,
     "metadata": {},
     "output_type": "execute_result"
    }
   ],
   "source": [
    "#In this example 0,1,2,3 are the \"Axis labels\" and 145,142,38,13 are the values\n",
    "#A pandas pd has two axis one for the rows and one for the columns\n",
    "songs2"
   ]
  },
  {
   "cell_type": "code",
   "execution_count": 5,
   "id": "92aa55c1",
   "metadata": {},
   "outputs": [
    {
     "data": {
      "text/plain": [
       "RangeIndex(start=0, stop=4, step=1)"
      ]
     },
     "execution_count": 5,
     "metadata": {},
     "output_type": "execute_result"
    }
   ],
   "source": [
    "#the index is an attribute of the series object, we can inspect it\n",
    "songs2.index"
   ]
  },
  {
   "cell_type": "code",
   "execution_count": 6,
   "id": "75137f72",
   "metadata": {},
   "outputs": [],
   "source": [
    "#We can set an string index for the Series object\n",
    "songs3=pd.Series([145,142,38,13],name='counts',index=['Paul','John','George','Ringo'])"
   ]
  },
  {
   "cell_type": "code",
   "execution_count": 9,
   "id": "8055b016",
   "metadata": {},
   "outputs": [
    {
     "data": {
      "text/plain": [
       "Index(['Paul', 'John', 'George', 'Ringo'], dtype='object')"
      ]
     },
     "execution_count": 9,
     "metadata": {},
     "output_type": "execute_result"
    }
   ],
   "source": [
    "songs3.index"
   ]
  },
  {
   "cell_type": "markdown",
   "id": "f3808564",
   "metadata": {},
   "source": [
    "##### NaN= Not a number\n",
    "NaN is usually ignored in arithmetic operations"
   ]
  },
  {
   "cell_type": "code",
   "execution_count": 11,
   "id": "a2892979",
   "metadata": {},
   "outputs": [],
   "source": [
    "import numpy as np\n",
    "nan_series=pd.Series([2,np.nan],index=['Ono','Clapton'])"
   ]
  },
  {
   "cell_type": "code",
   "execution_count": 13,
   "id": "224d15ba",
   "metadata": {},
   "outputs": [
    {
     "data": {
      "text/plain": [
       "Ono        2.0\n",
       "Clapton    NaN\n",
       "dtype: float64"
      ]
     },
     "execution_count": 13,
     "metadata": {},
     "output_type": "execute_result"
    }
   ],
   "source": [
    "#notice that given that pandas percived a Nan in the series, it coerced the Series type to float64 which supports\n",
    "#NaN values, when int64 does not\n",
    "nan_series"
   ]
  },
  {
   "cell_type": "code",
   "execution_count": 15,
   "id": "aa78cc53",
   "metadata": {},
   "outputs": [
    {
     "data": {
      "text/plain": [
       "1"
      ]
     },
     "execution_count": 15,
     "metadata": {},
     "output_type": "execute_result"
    }
   ],
   "source": [
    "#example of how pandas ignores a NaN value---useing count()\n",
    "nan_series.count()"
   ]
  },
  {
   "cell_type": "code",
   "execution_count": 16,
   "id": "04c8b4e4",
   "metadata": {},
   "outputs": [
    {
     "data": {
      "text/plain": [
       "2"
      ]
     },
     "execution_count": 16,
     "metadata": {},
     "output_type": "execute_result"
    }
   ],
   "source": [
    "#if you want to explore the number of entries even if there are some NaN values you can use the .size property\n",
    "nan_series.size"
   ]
  },
  {
   "cell_type": "code",
   "execution_count": 17,
   "id": "f7f1d2a5",
   "metadata": {},
   "outputs": [],
   "source": [
    "#Even in general pandas int64 does not support NaN values, there is one similar format of integers that\n",
    "#does it it the Int64 format (notice the capital I instead of i)\n",
    "\n",
    "nan_series2=pd.Series([2,np.nan],['Ono','Clapton'],dtype=\"Int64\")"
   ]
  },
  {
   "cell_type": "code",
   "execution_count": 19,
   "id": "375c94f5",
   "metadata": {},
   "outputs": [
    {
     "data": {
      "text/plain": [
       "Ono           2\n",
       "Clapton    <NA>\n",
       "dtype: Int64"
      ]
     },
     "execution_count": 19,
     "metadata": {},
     "output_type": "execute_result"
    }
   ],
   "source": [
    "nan_series2"
   ]
  },
  {
   "cell_type": "code",
   "execution_count": 20,
   "id": "ffb4482c",
   "metadata": {},
   "outputs": [
    {
     "data": {
      "text/plain": [
       "Ono           2\n",
       "Clapton    <NA>\n",
       "dtype: Int64"
      ]
     },
     "execution_count": 20,
     "metadata": {},
     "output_type": "execute_result"
    }
   ],
   "source": [
    "#you can use .astype() in order to a Series to accept a NaN\n",
    "nan_series.astype('Int64')"
   ]
  },
  {
   "cell_type": "markdown",
   "id": "321b63df",
   "metadata": {},
   "source": [
    "#### Pandas series behaves similar to NumPy"
   ]
  },
  {
   "cell_type": "code",
   "execution_count": 21,
   "id": "4c4dc396",
   "metadata": {},
   "outputs": [],
   "source": [
    "numpy_ser=np.array([145,142,38,13])"
   ]
  },
  {
   "cell_type": "code",
   "execution_count": 24,
   "id": "dc212825",
   "metadata": {},
   "outputs": [
    {
     "data": {
      "text/plain": [
       "142"
      ]
     },
     "execution_count": 24,
     "metadata": {},
     "output_type": "execute_result"
    }
   ],
   "source": [
    "songs3[1] #we can perform index operations on both"
   ]
  },
  {
   "cell_type": "code",
   "execution_count": 25,
   "id": "733fffca",
   "metadata": {},
   "outputs": [
    {
     "data": {
      "text/plain": [
       "142"
      ]
     },
     "execution_count": 25,
     "metadata": {},
     "output_type": "execute_result"
    }
   ],
   "source": [
    "numpy_ser[1]"
   ]
  },
  {
   "cell_type": "code",
   "execution_count": 27,
   "id": "ea20c869",
   "metadata": {},
   "outputs": [
    {
     "name": "stdout",
     "output_type": "stream",
     "text": [
      "84.5\n",
      "84.5\n"
     ]
    }
   ],
   "source": [
    "#Numpy and pandas have methods in common\n",
    "print(songs3.mean())\n",
    "print(numpy_ser.mean())\n"
   ]
  },
  {
   "cell_type": "code",
   "execution_count": 28,
   "id": "5110aea7",
   "metadata": {},
   "outputs": [],
   "source": [
    "#Masking with a boolean array\n",
    "mask=songs3>songs3.median()"
   ]
  },
  {
   "cell_type": "code",
   "execution_count": 30,
   "id": "c278c90b",
   "metadata": {},
   "outputs": [
    {
     "data": {
      "text/plain": [
       "Paul       True\n",
       "John       True\n",
       "George    False\n",
       "Ringo     False\n",
       "Name: counts, dtype: bool"
      ]
     },
     "execution_count": 30,
     "metadata": {},
     "output_type": "execute_result"
    }
   ],
   "source": [
    "mask"
   ]
  },
  {
   "cell_type": "code",
   "execution_count": 31,
   "id": "5336da8d",
   "metadata": {},
   "outputs": [
    {
     "data": {
      "text/plain": [
       "Paul    145\n",
       "John    142\n",
       "Name: counts, dtype: int64"
      ]
     },
     "execution_count": 31,
     "metadata": {},
     "output_type": "execute_result"
    }
   ],
   "source": [
    "#once we have a mask we can use it as a filter\n",
    "songs3[mask]"
   ]
  },
  {
   "cell_type": "markdown",
   "id": "b2d489fb",
   "metadata": {},
   "source": [
    "### Categorical Data in pd Series"
   ]
  },
  {
   "cell_type": "code",
   "execution_count": 34,
   "id": "a48ca68c",
   "metadata": {},
   "outputs": [],
   "source": [
    "#Creating a category\n",
    "s=pd.Series(['m','l','xs','s','xl'],dtype='category')"
   ]
  },
  {
   "cell_type": "code",
   "execution_count": 35,
   "id": "9c9cf283",
   "metadata": {},
   "outputs": [
    {
     "data": {
      "text/plain": [
       "False"
      ]
     },
     "execution_count": 35,
     "metadata": {},
     "output_type": "execute_result"
    }
   ],
   "source": [
    "#We can check if the categories have an order\n",
    "s.cat.ordered"
   ]
  },
  {
   "cell_type": "code",
   "execution_count": 37,
   "id": "cf83850b",
   "metadata": {},
   "outputs": [],
   "source": [
    "#If we want to set a particular order of the categories we can use:\n",
    "s2=pd.Series(['m','l','xs','s','xl'])\n",
    "size_type=pd.api.types.CategoricalDtype(\n",
    "    categories=['s','m','l'],ordered=True)\n",
    "\n",
    "s3=s2.astype(size_type)"
   ]
  },
  {
   "cell_type": "code",
   "execution_count": 39,
   "id": "156ba81a",
   "metadata": {},
   "outputs": [
    {
     "data": {
      "text/plain": [
       "0      m\n",
       "1      l\n",
       "2    NaN\n",
       "3      s\n",
       "4    NaN\n",
       "dtype: category\n",
       "Categories (3, object): ['s' < 'm' < 'l']"
      ]
     },
     "execution_count": 39,
     "metadata": {},
     "output_type": "execute_result"
    }
   ],
   "source": [
    "#notice that given that we didnt assign an order for 'xs' and 'xl' the method astype converted those values to Nan\n",
    "\n",
    "s3"
   ]
  },
  {
   "cell_type": "code",
   "execution_count": 42,
   "id": "b5d216ab",
   "metadata": {},
   "outputs": [
    {
     "data": {
      "text/plain": [
       "0     True\n",
       "1     True\n",
       "2    False\n",
       "3    False\n",
       "4    False\n",
       "dtype: bool"
      ]
     },
     "execution_count": 42,
     "metadata": {},
     "output_type": "execute_result"
    }
   ],
   "source": [
    "#We could perform comparisons on the categories\n",
    "#What values are greater than s\n",
    "s3>'s'"
   ]
  },
  {
   "cell_type": "code",
   "execution_count": 44,
   "id": "e0193a66",
   "metadata": {},
   "outputs": [
    {
     "data": {
      "text/plain": [
       "0     m\n",
       "1     l\n",
       "2    xs\n",
       "3     s\n",
       "4    xl\n",
       "dtype: category\n",
       "Categories (5, object): ['xs' < 's' < 'm' < 'l' < 'xl']"
      ]
     },
     "execution_count": 44,
     "metadata": {},
     "output_type": "execute_result"
    }
   ],
   "source": [
    "#We could also add an order to an existing serie\n",
    "\n",
    "s.cat.reorder_categories(['xs','s','m','l','xl'],ordered=True)"
   ]
  },
  {
   "cell_type": "code",
   "execution_count": 50,
   "id": "bea86c9d",
   "metadata": {},
   "outputs": [],
   "source": [
    "#We can perform string operations in categorical data\n",
    "s3=s3.str.upper()"
   ]
  },
  {
   "cell_type": "code",
   "execution_count": 51,
   "id": "2a4d4047",
   "metadata": {},
   "outputs": [
    {
     "data": {
      "text/plain": [
       "0      M\n",
       "1      L\n",
       "2    NaN\n",
       "3      S\n",
       "4    NaN\n",
       "dtype: object"
      ]
     },
     "execution_count": 51,
     "metadata": {},
     "output_type": "execute_result"
    }
   ],
   "source": [
    "s3"
   ]
  },
  {
   "cell_type": "markdown",
   "id": "c7786c02",
   "metadata": {},
   "source": [
    "Exercises on Chapter 4"
   ]
  },
  {
   "cell_type": "markdown",
   "id": "f1dc7866",
   "metadata": {},
   "source": [
    "1) Create a series with the temperature values of the last seven days and filter out the values below the mean"
   ]
  },
  {
   "cell_type": "code",
   "execution_count": 52,
   "id": "0847fdb5",
   "metadata": {},
   "outputs": [],
   "source": [
    "temperatures=pd.Series(['22','30','21','25','28','24','21'],dtype=\"Int64\")"
   ]
  },
  {
   "cell_type": "code",
   "execution_count": 53,
   "id": "a5a34133",
   "metadata": {},
   "outputs": [],
   "source": [
    "temperatures_below=temperatures<temperatures.mean()"
   ]
  },
  {
   "cell_type": "code",
   "execution_count": 54,
   "id": "fb4f27a3",
   "metadata": {},
   "outputs": [
    {
     "data": {
      "text/plain": [
       "0    22\n",
       "2    21\n",
       "5    24\n",
       "6    21\n",
       "dtype: Int64"
      ]
     },
     "execution_count": 54,
     "metadata": {},
     "output_type": "execute_result"
    }
   ],
   "source": [
    "temperatures[temperatures_below]"
   ]
  },
  {
   "cell_type": "markdown",
   "id": "b23ba7cd",
   "metadata": {},
   "source": [
    "2) Create a Serie with you favorite colors"
   ]
  },
  {
   "cell_type": "code",
   "execution_count": 57,
   "id": "b55518df",
   "metadata": {},
   "outputs": [
    {
     "data": {
      "text/plain": [
       "0     Pink\n",
       "1      Red\n",
       "2    Black\n",
       "dtype: category\n",
       "Categories (3, object): ['Pink' < 'Red' < 'Black']"
      ]
     },
     "execution_count": 57,
     "metadata": {},
     "output_type": "execute_result"
    }
   ],
   "source": [
    "colors=pd.Series(['Pink','Red','Black'],dtype='category')\n",
    "colors.cat.reorder_categories(['Pink','Red', 'Black'], ordered=True)"
   ]
  },
  {
   "cell_type": "code",
   "execution_count": 58,
   "id": "39267a85",
   "metadata": {},
   "outputs": [
    {
     "data": {
      "text/plain": [
       "0     Pink\n",
       "1      Red\n",
       "2    Black\n",
       "dtype: category\n",
       "Categories (3, object): ['Black', 'Pink', 'Red']"
      ]
     },
     "execution_count": 58,
     "metadata": {},
     "output_type": "execute_result"
    }
   ],
   "source": [
    "colors"
   ]
  },
  {
   "cell_type": "markdown",
   "id": "c5d50930",
   "metadata": {},
   "source": [
    "## Series Deep Dive"
   ]
  },
  {
   "cell_type": "code",
   "execution_count": 68,
   "id": "0c36ae16",
   "metadata": {},
   "outputs": [
    {
     "name": "stderr",
     "output_type": "stream",
     "text": [
      "/tmp/ipykernel_11439/2585133250.py:1: DtypeWarning: Columns (68,70,71,72,73,74,76,79) have mixed types. Specify dtype option on import or set low_memory=False.\n",
      "  df=pd.read_csv('vehicles.csv')\n"
     ]
    }
   ],
   "source": [
    "df=pd.read_csv('vehicles.csv')"
   ]
  },
  {
   "cell_type": "code",
   "execution_count": 69,
   "id": "976098b4",
   "metadata": {},
   "outputs": [],
   "source": [
    "city_mpg=df.city08"
   ]
  },
  {
   "cell_type": "code",
   "execution_count": 70,
   "id": "9743013e",
   "metadata": {},
   "outputs": [],
   "source": [
    "highway_mpg=df.highway08"
   ]
  },
  {
   "cell_type": "code",
   "execution_count": 71,
   "id": "d4395836",
   "metadata": {},
   "outputs": [
    {
     "data": {
      "text/plain": [
       "0        19\n",
       "1         9\n",
       "2        23\n",
       "3        10\n",
       "4        17\n",
       "         ..\n",
       "41139    19\n",
       "41140    20\n",
       "41141    18\n",
       "41142    18\n",
       "41143    16\n",
       "Name: city08, Length: 41144, dtype: int64"
      ]
     },
     "execution_count": 71,
     "metadata": {},
     "output_type": "execute_result"
    }
   ],
   "source": [
    "city_mpg"
   ]
  },
  {
   "cell_type": "code",
   "execution_count": 72,
   "id": "1be97db3",
   "metadata": {},
   "outputs": [
    {
     "data": {
      "text/plain": [
       "0        25\n",
       "1        14\n",
       "2        33\n",
       "3        12\n",
       "4        23\n",
       "         ..\n",
       "41139    26\n",
       "41140    28\n",
       "41141    24\n",
       "41142    24\n",
       "41143    21\n",
       "Name: highway08, Length: 41144, dtype: int64"
      ]
     },
     "execution_count": 72,
     "metadata": {},
     "output_type": "execute_result"
    }
   ],
   "source": [
    "highway_mpg"
   ]
  },
  {
   "cell_type": "code",
   "execution_count": 74,
   "id": "614e5c77",
   "metadata": {},
   "outputs": [
    {
     "data": {
      "text/plain": [
       "420"
      ]
     },
     "execution_count": 74,
     "metadata": {},
     "output_type": "execute_result"
    }
   ],
   "source": [
    "#How many methods does pd series have?\n",
    "#Pandas series have 420 methods\n",
    "len(dir(city_mpg))"
   ]
  },
  {
   "cell_type": "code",
   "execution_count": 76,
   "id": "77f955fb",
   "metadata": {},
   "outputs": [],
   "source": [
    "#we can explore the disponible methods by tipping point after the name of a series and then TAB\n",
    "#city_mpg."
   ]
  },
  {
   "cell_type": "markdown",
   "id": "882af378",
   "metadata": {},
   "source": [
    "Excercises:\n",
    "\n",
    "1) How many methods does the str attribute have?"
   ]
  },
  {
   "cell_type": "code",
   "execution_count": 77,
   "id": "95d43b50",
   "metadata": {},
   "outputs": [
    {
     "data": {
      "text/plain": [
       "99"
      ]
     },
     "execution_count": 77,
     "metadata": {},
     "output_type": "execute_result"
    }
   ],
   "source": [
    "len(dir(colors.str))"
   ]
  },
  {
   "cell_type": "code",
   "execution_count": null,
   "id": "3bee927e",
   "metadata": {},
   "outputs": [],
   "source": []
  }
 ],
 "metadata": {
  "kernelspec": {
   "display_name": "Python 3 (ipykernel)",
   "language": "python",
   "name": "python3"
  },
  "language_info": {
   "codemirror_mode": {
    "name": "ipython",
    "version": 3
   },
   "file_extension": ".py",
   "mimetype": "text/x-python",
   "name": "python",
   "nbconvert_exporter": "python",
   "pygments_lexer": "ipython3",
   "version": "3.10.4"
  }
 },
 "nbformat": 4,
 "nbformat_minor": 5
}
